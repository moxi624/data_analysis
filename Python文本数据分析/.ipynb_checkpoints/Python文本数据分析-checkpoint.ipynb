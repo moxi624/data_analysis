{
 "cells": [
  {
   "cell_type": "code",
   "execution_count": null,
   "metadata": {},
   "outputs": [],
   "source": [
    "# 文本分析\n",
    "# 停用词    1、语料库中大量出现   2、没啥大用   3、留着过年嘛？\n",
    "# 例如： 一下， 一个， 一些，一天， 一旦    还有一些标点符号   更多的可以查看停用词表\n",
    "# TF-IDF:关键字提取，  词频和反词频进行统计\n",
    "# IDF：逆文档频率， 如果一个词比较少见，但是他在这篇文章中多次出现，那么他可能就反映了这篇文章的特性，正如我们所需要的关键词一样"
   ]
  }
 ],
 "metadata": {
  "kernelspec": {
   "display_name": "Python 3",
   "language": "python",
   "name": "python3"
  },
  "language_info": {
   "codemirror_mode": {
    "name": "ipython",
    "version": 3
   },
   "file_extension": ".py",
   "mimetype": "text/x-python",
   "name": "python",
   "nbconvert_exporter": "python",
   "pygments_lexer": "ipython3",
   "version": "3.7.0"
  }
 },
 "nbformat": 4,
 "nbformat_minor": 2
}
